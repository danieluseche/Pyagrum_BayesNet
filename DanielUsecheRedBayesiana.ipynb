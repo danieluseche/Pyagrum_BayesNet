{
 "cells": [
  {
   "cell_type": "code",
   "execution_count": 1,
   "id": "292e682e",
   "metadata": {},
   "outputs": [],
   "source": [
    "import pyAgrum as gum\n",
    "import pyAgrum.lib.notebook as gnb\n",
    "\n",
    "# Crear el modelo \n",
    "red_bayesiana = gum.BayesNet('Probabilidad de hierba mojada')"
   ]
  },
  {
   "cell_type": "code",
   "execution_count": 2,
   "id": "fbca70cb",
   "metadata": {},
   "outputs": [],
   "source": [
    "# Agregendo las variables presentes en la red:\n",
    "for nombre_variable in [\"N\", \"A\", \"LL\", \"HM\"]:\n",
    "    red_bayesiana.add(nombre_variable)\n",
    "\n",
    "# Estableciendo la relacion entre los nodos:\n",
    "for enlace in [('N', 'A'), ('N', 'LL'), ('A', 'HM'), ('LL', 'HM')]:\n",
    "    red_bayesiana.addArc(*enlace)"
   ]
  },
  {
   "cell_type": "code",
   "execution_count": 3,
   "id": "f6473eac",
   "metadata": {},
   "outputs": [
    {
     "data": {
      "text/html": [
       "<table style=\"border:1px solid black;\">\n",
       "<tr style='border:1px solid black;color:black;background-color:#808080'>\n",
       "      <th colspan='2'><center>N</center></th></tr>\n",
       "<tr><th style='border:1px solid black;border-bottom-style: double;color:black;background-color:#BBBBBB'>\n",
       "      <center>0</center></th><th style='border:1px solid black;border-bottom-style: double;color:black;background-color:#BBBBBB'>\n",
       "      <center>1</center></th></tr>\n",
       "<tr><td style='color:black;background-color:#bfbf64;text-align:right;'>0.5000</td><td style='color:black;background-color:#bfbf64;text-align:right;'>0.5000</td></tr>\n",
       "</table>"
      ],
      "text/plain": [
       "(pyAgrum.Potential<double>@0x21e0240) \n",
       "  N                |\n",
       "0        |1        |\n",
       "---------|---------|\n",
       " 0.5000  | 0.5000  |"
      ]
     },
     "execution_count": 3,
     "metadata": {},
     "output_type": "execute_result"
    }
   ],
   "source": [
    "# Agregar los valores a las tablas de probabilidad condicional\n",
    "\n",
    "# Probabilidad de que el cielo esté nublado 50% 50%\n",
    "red_bayesiana.cpt('N').fillWith([0.5,0.5])"
   ]
  },
  {
   "cell_type": "code",
   "execution_count": 4,
   "id": "a9c5f649",
   "metadata": {},
   "outputs": [
    {
     "data": {
      "text/html": [
       "<table style=\"border:1px solid black;\">\n",
       "<tr><th colspan='1'></th>\n",
       "      <th colspan='2' style='border:1px solid black;color:black;background-color:#808080;'><center>A</center>\n",
       "      </th></tr>\n",
       "<tr><th style='border:1px solid black;color:black;background-color:#808080'><center>N</center></th><th style='border:1px solid black;border-bottom-style: double;color:black;background-color:#BBBBBB'>\n",
       "      <center>0</center></th><th style='border:1px solid black;border-bottom-style: double;color:black;background-color:#BBBBBB'>\n",
       "      <center>1</center></th></tr>\n",
       "<tr><th style='border:1px solid black;color:black;background-color:#BBBBBB'><center>0</center></th><td style='color:black;background-color:#bfbf64;text-align:right;'>0.5000</td><td style='color:black;background-color:#bfbf64;text-align:right;'>0.5000</td></tr>\n",
       "<tr><th style='border:1px solid black;color:black;background-color:#BBBBBB'><center>1</center></th><td style='color:black;background-color:#8bf264;text-align:right;'>0.9000</td><td style='color:black;background-color:#f28b64;text-align:right;'>0.1000</td></tr>\n",
       "</table>"
      ],
      "text/plain": [
       "(pyAgrum.Potential<double>@0x253cd90) \n",
       "      ||  A                |\n",
       "N     ||0        |1        |\n",
       "------||---------|---------|\n",
       "0     || 0.5000  | 0.5000  |\n",
       "1     || 0.9000  | 0.1000  |"
      ]
     },
     "execution_count": 4,
     "metadata": {},
     "output_type": "execute_result"
    }
   ],
   "source": [
    "# Tabla de Probabilidad A: el aspersor se ha puesto en marcha\n",
    "red_bayesiana.cpt(\"A\")[{'N': 0}] = [0.5,0.5]\n",
    "red_bayesiana.cpt(\"A\")[{'N': 1}] = [0.9,0.1]\n",
    "red_bayesiana.cpt(\"A\")"
   ]
  },
  {
   "cell_type": "code",
   "execution_count": 5,
   "id": "f6945f6c",
   "metadata": {},
   "outputs": [
    {
     "data": {
      "text/html": [
       "<table style=\"border:1px solid black;\">\n",
       "<tr><th colspan='1'></th>\n",
       "      <th colspan='2' style='border:1px solid black;color:black;background-color:#808080;'><center>LL</center>\n",
       "      </th></tr>\n",
       "<tr><th style='border:1px solid black;color:black;background-color:#808080'><center>N</center></th><th style='border:1px solid black;border-bottom-style: double;color:black;background-color:#BBBBBB'>\n",
       "      <center>0</center></th><th style='border:1px solid black;border-bottom-style: double;color:black;background-color:#BBBBBB'>\n",
       "      <center>1</center></th></tr>\n",
       "<tr><th style='border:1px solid black;color:black;background-color:#BBBBBB'><center>0</center></th><td style='color:black;background-color:#98e564;text-align:right;'>0.8000</td><td style='color:black;background-color:#e59864;text-align:right;'>0.2000</td></tr>\n",
       "<tr><th style='border:1px solid black;color:black;background-color:#BBBBBB'><center>1</center></th><td style='color:black;background-color:#e59864;text-align:right;'>0.2000</td><td style='color:black;background-color:#98e564;text-align:right;'>0.8000</td></tr>\n",
       "</table>"
      ],
      "text/plain": [
       "(pyAgrum.Potential<double>@0x221a260) \n",
       "      ||  LL               |\n",
       "N     ||0        |1        |\n",
       "------||---------|---------|\n",
       "0     || 0.8000  | 0.2000  |\n",
       "1     || 0.2000  | 0.8000  |"
      ]
     },
     "execution_count": 5,
     "metadata": {},
     "output_type": "execute_result"
    }
   ],
   "source": [
    "# Tabla de Probabilidad LL: ha llovido\n",
    "red_bayesiana.cpt(\"LL\")[{'N': 0}] = [0.8,0.2]\n",
    "red_bayesiana.cpt(\"LL\")[{'N': 1}] = [0.2,0.8]\n",
    "red_bayesiana.cpt(\"LL\")"
   ]
  },
  {
   "cell_type": "code",
   "execution_count": 6,
   "id": "a2830e61",
   "metadata": {},
   "outputs": [
    {
     "data": {
      "text/html": [
       "<table style=\"border:1px solid black;\">\n",
       "<tr><th colspan='2'></th>\n",
       "      <th colspan='2' style='border:1px solid black;color:black;background-color:#808080;'><center>HM</center>\n",
       "      </th></tr>\n",
       "<tr><th style='border:1px solid black;color:black;background-color:#808080'><center>LL</center></th><th style='border:1px solid black;color:black;background-color:#808080'><center>A</center></th><th style='border:1px solid black;border-bottom-style: double;color:black;background-color:#BBBBBB'>\n",
       "      <center>0</center></th><th style='border:1px solid black;border-bottom-style: double;color:black;background-color:#BBBBBB'>\n",
       "      <center>1</center></th></tr>\n",
       "<tr><th style='border:1px solid black;color:black;background-color:#BBBBBB;' rowspan = '2'>\n",
       "            <center>0</center></th><th style='border:1px solid black;color:black;background-color:#BBBBBB'><center>0</center></th><td style='color:black;background-color:#7fff64;text-align:right;'>1.0000</td><td style='color:black;background-color:#ff7f64;text-align:right;'>0.0000</td></tr>\n",
       "<tr><th style='border:1px solid black;color:black;background-color:#BBBBBB'><center>1</center></th><td style='color:black;background-color:#f28b64;text-align:right;'>0.1000</td><td style='color:black;background-color:#8bf264;text-align:right;'>0.9000</td></tr>\n",
       "<tr><th style='border:1px solid black;color:black;background-color:#BBBBBB;' rowspan = '2'>\n",
       "            <center>1</center></th><th style='border:1px solid black;color:black;background-color:#BBBBBB'><center>0</center></th><td style='color:black;background-color:#f28b64;text-align:right;'>0.1000</td><td style='color:black;background-color:#8bf264;text-align:right;'>0.9000</td></tr>\n",
       "<tr><th style='border:1px solid black;color:black;background-color:#BBBBBB'><center>1</center></th><td style='color:black;background-color:#fd8064;text-align:right;'>0.0100</td><td style='color:black;background-color:#80fd64;text-align:right;'>0.9900</td></tr>\n",
       "</table>"
      ],
      "text/plain": [
       "(pyAgrum.Potential<double>@0x22c66b0) \n",
       "             ||  HM               |\n",
       "A     |LL    ||0        |1        |\n",
       "------|------||---------|---------|\n",
       "0     |0     || 1.0000  | 0.0000  |\n",
       "1     |0     || 0.1000  | 0.9000  |\n",
       "0     |1     || 0.1000  | 0.9000  |\n",
       "1     |1     || 0.0100  | 0.9900  |"
      ]
     },
     "execution_count": 6,
     "metadata": {},
     "output_type": "execute_result"
    }
   ],
   "source": [
    "#Tabla de Probabilidad HM: la hierba esta mojada\n",
    "red_bayesiana.cpt(\"HM\")[{\"LL\": 0, \"A\": 0}] = [1, 0]\n",
    "red_bayesiana.cpt(\"HM\")[{\"LL\": 0, \"A\": 1}] = [0.1, 0.9]\n",
    "red_bayesiana.cpt(\"HM\")[{\"LL\": 1, \"A\": 0}] = [0.1, 0.9]\n",
    "red_bayesiana.cpt(\"HM\")[{\"LL\": 1, \"A\": 1}] = [0.01, 0.99]\n",
    "red_bayesiana.cpt(\"HM\")\n"
   ]
  },
  {
   "cell_type": "code",
   "execution_count": 7,
   "id": "d8de1f2e",
   "metadata": {},
   "outputs": [],
   "source": [
    "# Implementando el mecanismo de inferencia:\n",
    "ie = gum.LazyPropagation(red_bayesiana)"
   ]
  },
  {
   "cell_type": "code",
   "execution_count": 8,
   "id": "b9af2b0d",
   "metadata": {},
   "outputs": [
    {
     "data": {
      "text/html": [
       "<table style=\"border:1px solid black;\">\n",
       "<tr style='border:1px solid black;color:black;background-color:#808080'>\n",
       "      <th colspan='2'><center>HM</center></th></tr>\n",
       "<tr><th style='border:1px solid black;border-bottom-style: double;color:black;background-color:#BBBBBB'>\n",
       "      <center>0</center></th><th style='border:1px solid black;border-bottom-style: double;color:black;background-color:#BBBBBB'>\n",
       "      <center>1</center></th></tr>\n",
       "<tr><td style='color:black;background-color:#d1ac64;text-align:right;'>0.3529</td><td style='color:black;background-color:#acd164;text-align:right;'>0.6471</td></tr>\n",
       "</table>"
      ],
      "text/plain": [
       "(pyAgrum.Potential<double>@0x2f22f40) \n",
       "  HM               |\n",
       "0        |1        |\n",
       "---------|---------|\n",
       " 0.3529  | 0.6471  |"
      ]
     },
     "execution_count": 8,
     "metadata": {},
     "output_type": "execute_result"
    }
   ],
   "source": [
    "# Infiriendo la probabilidad que la hierba esté mojada, sin evidencia a priori:\n",
    "ie.makeInference()\n",
    "# P(HM)\n",
    "ie.posterior(\"HM\")"
   ]
  },
  {
   "cell_type": "code",
   "execution_count": 9,
   "id": "b2c9c899",
   "metadata": {},
   "outputs": [
    {
     "data": {
      "text/html": [
       "<table style=\"border:1px solid black;\">\n",
       "<tr style='border:1px solid black;color:black;background-color:#808080'>\n",
       "      <th colspan='2'><center>HM</center></th></tr>\n",
       "<tr><th style='border:1px solid black;border-bottom-style: double;color:black;background-color:#BBBBBB'>\n",
       "      <center>0</center></th><th style='border:1px solid black;border-bottom-style: double;color:black;background-color:#BBBBBB'>\n",
       "      <center>1</center></th></tr>\n",
       "<tr><td style='color:black;background-color:#7fff64;text-align:right;'>1.0000</td><td style='color:black;background-color:#ff7f64;text-align:right;'>0.0000</td></tr>\n",
       "</table>"
      ],
      "text/plain": [
       "(pyAgrum.Potential<double>@0x302a4e0) \n",
       "  HM               |\n",
       "0        |1        |\n",
       "---------|---------|\n",
       " 1.0000  | 0.0000  |"
      ]
     },
     "execution_count": 9,
     "metadata": {},
     "output_type": "execute_result"
    }
   ],
   "source": [
    "# Alimentando la red bayesiana podemos obtener inferencias basados en evidencia obtenida:\n",
    "\n",
    "# Ejemplo si no se encendió el aspersor, y no llovió \n",
    "ie.setEvidence({'A':0, 'LL': 0})\n",
    "ie.makeInference()\n",
    "\n",
    "# el modelo infiere que es 100% la probabilidad de que la hierba esté seca\n",
    "ie.posterior(\"HM\")\n"
   ]
  },
  {
   "cell_type": "code",
   "execution_count": 10,
   "id": "036d95c9",
   "metadata": {},
   "outputs": [
    {
     "data": {
      "text/html": [
       "<table style=\"border:1px solid black;\">\n",
       "<tr style='border:1px solid black;color:black;background-color:#808080'>\n",
       "      <th colspan='2'><center>HM</center></th></tr>\n",
       "<tr><th style='border:1px solid black;border-bottom-style: double;color:black;background-color:#BBBBBB'>\n",
       "      <center>0</center></th><th style='border:1px solid black;border-bottom-style: double;color:black;background-color:#BBBBBB'>\n",
       "      <center>1</center></th></tr>\n",
       "<tr><td style='color:black;background-color:#cfae64;text-align:right;'>0.3728</td><td style='color:black;background-color:#aecf64;text-align:right;'>0.6272</td></tr>\n",
       "</table>"
      ],
      "text/plain": [
       "(pyAgrum.Potential<double>@0x3039380) \n",
       "  HM               |\n",
       "0        |1        |\n",
       "---------|---------|\n",
       " 0.3728  | 0.6272  |"
      ]
     },
     "execution_count": 10,
     "metadata": {},
     "output_type": "execute_result"
    }
   ],
   "source": [
    "# Cuando no se está seguro de el valor concreto de las variables puede utilizarce un mecanismo llamado \n",
    "# evidencia \"suave\", en el cual se pondera la seguridad con la que una variable esté atada a un valor verdadero \n",
    "# o falso:\n",
    "\n",
    "ie.setEvidence({'A': [.4, 1], 'LL': [1, .2]}) \n",
    "# donde:\n",
    "# 'Variable': [% de seguridad de valor Falso, % de seguridad de valor Verdadero]\n",
    "ie.makeInference()\n",
    "ie.posterior(\"HM\")"
   ]
  },
  {
   "cell_type": "code",
   "execution_count": 11,
   "id": "eb60dc79",
   "metadata": {},
   "outputs": [
    {
     "data": {
      "text/html": [
       "<table style=\"border:1px solid black;\">\n",
       "<tr style='border:1px solid black;color:black;background-color:#808080'>\n",
       "      <th colspan='2'><center>HM</center></th></tr>\n",
       "<tr><th style='border:1px solid black;border-bottom-style: double;color:black;background-color:#BBBBBB'>\n",
       "      <center>0</center></th><th style='border:1px solid black;border-bottom-style: double;color:black;background-color:#BBBBBB'>\n",
       "      <center>1</center></th></tr>\n",
       "<tr><td style='color:black;background-color:#d1ac64;text-align:right;'>0.3529</td><td style='color:black;background-color:#acd164;text-align:right;'>0.6471</td></tr>\n",
       "</table>"
      ],
      "text/plain": [
       "(pyAgrum.Potential<double>@0x20f2c40) \n",
       "  HM               |\n",
       "0        |1        |\n",
       "---------|---------|\n",
       " 0.3529  | 0.6471  |"
      ]
     },
     "execution_count": 11,
     "metadata": {},
     "output_type": "execute_result"
    }
   ],
   "source": [
    "# Como ejemplo ilustrativo se muestra el caso de 100% de seguridad para cada variable\n",
    "# que es lo mismo que tener una inferencia sin evidencia previa:\n",
    "ie.setEvidence({'A': [1, 1], 'LL': [1, 1]}) \n",
    "ie.makeInference()\n",
    "ie.posterior(\"HM\")"
   ]
  },
  {
   "cell_type": "code",
   "execution_count": 12,
   "id": "ea7445a3",
   "metadata": {},
   "outputs": [],
   "source": [
    "# Suponiendo que existe una variable adicional que depende úniamentede la hierba mojada.\n",
    "# Por ejemplo añadir fertilizante a la hierba \"F\":\n",
    "red_bayesiana.add(\"F\")\n",
    "red_bayesiana.addArc(\"HM\", \"F\")"
   ]
  },
  {
   "cell_type": "code",
   "execution_count": 13,
   "id": "6562d814",
   "metadata": {},
   "outputs": [
    {
     "data": {
      "text/html": [
       "<table style=\"border:1px solid black;\">\n",
       "<tr><th colspan='1'></th>\n",
       "      <th colspan='2' style='border:1px solid black;color:black;background-color:#808080;'><center>F</center>\n",
       "      </th></tr>\n",
       "<tr><th style='border:1px solid black;color:black;background-color:#808080'><center>HM</center></th><th style='border:1px solid black;border-bottom-style: double;color:black;background-color:#BBBBBB'>\n",
       "      <center>0</center></th><th style='border:1px solid black;border-bottom-style: double;color:black;background-color:#BBBBBB'>\n",
       "      <center>1</center></th></tr>\n",
       "<tr><th style='border:1px solid black;color:black;background-color:#BBBBBB'><center>0</center></th><td style='color:black;background-color:#d8a564;text-align:right;'>0.3000</td><td style='color:black;background-color:#a5d864;text-align:right;'>0.7000</td></tr>\n",
       "<tr><th style='border:1px solid black;color:black;background-color:#BBBBBB'><center>1</center></th><td style='color:black;background-color:#8bf264;text-align:right;'>0.9000</td><td style='color:black;background-color:#f28b64;text-align:right;'>0.1000</td></tr>\n",
       "</table>"
      ],
      "text/plain": [
       "(pyAgrum.Potential<double>@0x2e3c300) \n",
       "      ||  F                |\n",
       "HM    ||0        |1        |\n",
       "------||---------|---------|\n",
       "0     || 0.3000  | 0.7000  |\n",
       "1     || 0.9000  | 0.1000  |"
      ]
     },
     "execution_count": 13,
     "metadata": {},
     "output_type": "execute_result"
    }
   ],
   "source": [
    "# Tabla de Probabilidad F: Se ha añadido fertilizante a la hierba\n",
    "red_bayesiana.cpt(\"F\")[{\"HM\": 0}] = [0.3,0.7]\n",
    "red_bayesiana.cpt(\"F\")[{\"HM\": 1}] = [0.9,0.1]\n",
    "red_bayesiana.cpt(\"F\")"
   ]
  },
  {
   "cell_type": "code",
   "execution_count": 14,
   "id": "c40c95f4",
   "metadata": {},
   "outputs": [
    {
     "data": {
      "text/html": [
       "<table style=\"border:1px solid black;\">\n",
       "<tr style='border:1px solid black;color:black;background-color:#808080'>\n",
       "      <th colspan='2'><center>F</center></th></tr>\n",
       "<tr><th style='border:1px solid black;border-bottom-style: double;color:black;background-color:#BBBBBB'>\n",
       "      <center>0</center></th><th style='border:1px solid black;border-bottom-style: double;color:black;background-color:#BBBBBB'>\n",
       "      <center>1</center></th></tr>\n",
       "<tr><td style='color:black;background-color:#a6d764;text-align:right;'>0.6883</td><td style='color:black;background-color:#d7a664;text-align:right;'>0.3117</td></tr>\n",
       "</table>"
      ],
      "text/plain": [
       "(pyAgrum.Potential<double>@0x2646d00) \n",
       "  F                |\n",
       "0        |1        |\n",
       "---------|---------|\n",
       " 0.6883  | 0.3117  |"
      ]
     },
     "execution_count": 14,
     "metadata": {},
     "output_type": "execute_result"
    }
   ],
   "source": [
    "ie = gum.LazyPropagation(red_bayesiana) \n",
    "ie.makeInference()\n",
    "ie.posterior(\"F\")"
   ]
  },
  {
   "cell_type": "code",
   "execution_count": null,
   "id": "d8680e3a",
   "metadata": {},
   "outputs": [],
   "source": [
    "# Debido a que la probabilidad que se agregue fertilizante a la hierba\n",
    "# depende unicamente si esta estaba mojada o no.\n",
    "# Se puede decir que es tiene una probabilidad condicional con la variable HM\n",
    "# lo que por simplificación convierte a la variable F en independiente de todas las anteriores\n",
    "# siempre que exista evidencia de la variable HM"
   ]
  },
  {
   "cell_type": "code",
   "execution_count": 17,
   "id": "46135070",
   "metadata": {},
   "outputs": [
    {
     "name": "stdout",
     "output_type": "stream",
     "text": [
      "F y N NO son independientes.\n",
      "F y N son independientes dado ['HM'].\n"
     ]
    }
   ],
   "source": [
    "# Comprobando la independencia de F\n",
    "def testIndep(bn,x,y,knowing):\n",
    "    res=\"\" if bn.isIndependent(x,y,knowing) else \"NO \"\n",
    "    giv=\".\" if len(knowing)==0 else f\" dado {knowing}.\"\n",
    "    print(f\"{x} y {y} {res}son independientes{giv}\")\n",
    "    \n",
    "testIndep(red_bayesiana,\"F\",\"N\",[])\n",
    "testIndep(red_bayesiana,\"F\",\"N\",[\"HM\"])\n"
   ]
  },
  {
   "cell_type": "code",
   "execution_count": null,
   "id": "55ea7aa6",
   "metadata": {},
   "outputs": [],
   "source": [
    "# Como es de esperar, siempre que haya evidencia del suceso HM se tendrá una independencia\n",
    "# de las variables o sucesos anteriores, esta es la demostración de la gran ventaja de la independencia condicional."
   ]
  }
 ],
 "metadata": {
  "kernelspec": {
   "display_name": "Python 3 (ipykernel)",
   "language": "python",
   "name": "python3"
  },
  "language_info": {
   "codemirror_mode": {
    "name": "ipython",
    "version": 3
   },
   "file_extension": ".py",
   "mimetype": "text/x-python",
   "name": "python",
   "nbconvert_exporter": "python",
   "pygments_lexer": "ipython3",
   "version": "3.9.2"
  }
 },
 "nbformat": 4,
 "nbformat_minor": 5
}
